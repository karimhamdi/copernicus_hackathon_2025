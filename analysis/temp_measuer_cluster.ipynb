{
 "cells": [
  {
   "cell_type": "code",
   "execution_count": 3,
   "metadata": {},
   "outputs": [
    {
     "name": "stdout",
     "output_type": "stream",
     "text": [
      "Top 3 locations with the highest density of stations:\n",
      "1. Coordinates: (52.5198, 13.4057), Station Count: 5\n",
      "2. Coordinates: (52.4676, 13.402), Station Count: 5\n",
      "3. Coordinates: (51.7986, 10.6183), Station Count: 5\n"
     ]
    }
   ],
   "source": [
    "import pandas as pd\n",
    "import io\n",
    "from geopy.distance import geodesic\n",
    "from collections import defaultdict\n",
    "import heapq\n",
    "\n",
    "\n",
    "\n",
    "def find_top_n_density_locations(df, radius_km=15, n=10):\n",
    "    \"\"\"\n",
    "    Finds the top N locations (latitude, longitude) with the highest density of stations within a given radius.\n",
    "\n",
    "    Args:\n",
    "        df: Pandas DataFrame with 'Latitude' and 'Longitude' columns.\n",
    "        radius_km: The radius in kilometers to consider for density calculation.\n",
    "        n: The number of top locations to return.\n",
    "\n",
    "    Returns:\n",
    "        A list of tuples, where each tuple contains:\n",
    "            - The coordinates (latitude, longitude) of the location.\n",
    "            - The number of stations within the specified radius of that location.\n",
    "    \"\"\"\n",
    "\n",
    "    station_locations = list(zip(df['Latitude'], df['Longitude']))\n",
    "    density_map = defaultdict(int)\n",
    "\n",
    "    for i, loc1 in enumerate(station_locations):\n",
    "        count = 0\n",
    "        for j, loc2 in enumerate(station_locations):\n",
    "            if i == j:\n",
    "                count += 1\n",
    "                continue\n",
    "            distance = geodesic(loc1, loc2).km\n",
    "            if distance <= radius_km:\n",
    "                count += 1\n",
    "        density_map[loc1] = count\n",
    "\n",
    "    # Use heapq to efficiently find the n largest values and their keys\n",
    "    top_n_locations = heapq.nlargest(n, density_map, key=density_map.get)\n",
    "\n",
    "    result = [(loc, density_map[loc]) for loc in top_n_locations]\n",
    "    return result\n"
   ]
  },
  {
   "cell_type": "code",
   "execution_count": null,
   "metadata": {},
   "outputs": [],
   "source": []
  },
  {
   "cell_type": "code",
   "execution_count": 4,
   "metadata": {},
   "outputs": [
    {
     "name": "stdout",
     "output_type": "stream",
     "text": [
      "Top 3 locations with the highest density of stations:\n",
      "1. Coordinates: (52.5198, 13.4057), Station Count: 5\n",
      "2. Coordinates: (52.4676, 13.402), Station Count: 5\n",
      "3. Coordinates: (51.7986, 10.6183), Station Count: 5\n",
      "4. Coordinates: (50.5309, 10.0479), Station Count: 5\n",
      "5. Coordinates: (52.5447, 13.5598), Station Count: 4\n",
      "6. Coordinates: (51.0249, 13.775), Station Count: 4\n",
      "7. Coordinates: (51.7658, 10.6533), Station Count: 4\n",
      "8. Coordinates: (51.0177, 11.3544), Station Count: 4\n",
      "9. Coordinates: (51.8454, 10.7686), Station Count: 4\n",
      "10. Coordinates: (48.2156, 8.9784), Station Count: 3\n"
     ]
    }
   ],
   "source": [
    "top_10_locations = find_top_n_density_locations(df, n=10)\n",
    "\n",
    "print(\"Top 3 locations with the highest density of stations:\")\n",
    "for i, (location, station_count) in enumerate(top_10_locations):\n",
    "    print(f\"{i+1}. Coordinates: {location}, Station Count: {station_count}\")"
   ]
  },
  {
   "cell_type": "code",
   "execution_count": null,
   "metadata": {},
   "outputs": [],
   "source": []
  }
 ],
 "metadata": {
  "kernelspec": {
   "display_name": "randominstallations",
   "language": "python",
   "name": "python3"
  },
  "language_info": {
   "codemirror_mode": {
    "name": "ipython",
    "version": 3
   },
   "file_extension": ".py",
   "mimetype": "text/x-python",
   "name": "python",
   "nbconvert_exporter": "python",
   "pygments_lexer": "ipython3",
   "version": "3.12.1"
  }
 },
 "nbformat": 4,
 "nbformat_minor": 2
}
