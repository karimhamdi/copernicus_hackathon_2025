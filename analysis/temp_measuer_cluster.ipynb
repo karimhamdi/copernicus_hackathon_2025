{
 "cells": [
  {
   "cell_type": "code",
   "execution_count": null,
   "metadata": {},
   "outputs": [],
   "source": [
    "import pandas as pd\n",
    "import io\n",
    "from geopy.distance import geodesic\n",
    "from collections import defaultdict\n",
    "\n",
    "\n",
    "df = pd.read_csv(\"../data/station_data.csv\")\n",
    "\n",
    "def find_highest_density_location(df, radius_km=15):\n",
    "    \"\"\"\n",
    "    Finds the location (latitude, longitude) with the highest density of stations within a given radius.\n",
    "\n",
    "    Args:\n",
    "        df: Pandas DataFrame with 'Latitude' and 'Longitude' columns.\n",
    "        radius_km: The radius in kilometers to consider for density calculation.\n",
    "\n",
    "    Returns:\n",
    "        A tuple containing:\n",
    "            - The coordinates (latitude, longitude) of the location with the highest density.\n",
    "            - The number of stations within the specified radius of that location.\n",
    "    \"\"\"\n",
    "\n",
    "    station_locations = list(zip(df['Latitude'], df['Longitude']))\n",
    "    density_map = defaultdict(int)  # Use defaultdict for convenience\n",
    "\n",
    "    for i, loc1 in enumerate(station_locations):\n",
    "        count = 0\n",
    "        for j, loc2 in enumerate(station_locations):\n",
    "            if i == j:\n",
    "                count += 1\n",
    "                continue # don't measure against the same point.\n",
    "            distance = geodesic(loc1, loc2).km\n",
    "            if distance <= radius_km:\n",
    "                count += 1\n",
    "        density_map[loc1] = count\n",
    "\n",
    "    # Find the location with the maximum density\n",
    "    highest_density_location = max(density_map, key=density_map.get)\n",
    "    max_density = density_map[highest_density_location]\n",
    "\n",
    "    return highest_density_location, max_density\n",
    "\n",
    "\n",
    "highest_density, station_count = find_highest_density_location(df)\n",
    "\n",
    "print(f\"The location with the highest density of stations within a 15km radius is at coordinates: {highest_density} with {station_count} stations.\")\n"
   ]
  }
 ],
 "metadata": {
  "kernelspec": {
   "display_name": "randominstallations",
   "language": "python",
   "name": "python3"
  },
  "language_info": {
   "name": "python",
   "version": "3.12.1"
  }
 },
 "nbformat": 4,
 "nbformat_minor": 2
}
